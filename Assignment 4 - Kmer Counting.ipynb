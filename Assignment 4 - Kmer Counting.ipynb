{
 "cells": [
  {
   "cell_type": "code",
   "execution_count": 6,
   "metadata": {
    "collapsed": true
   },
   "outputs": [],
   "source": [
    "filename = 'sample.fastq' #specifiy the file using a string variable \n",
    "f = open(filename, 'r') #open the file and r means for reading\n",
    "fastq = f.readlines() #read it into memory, line by line which creates a list where each line is an item in that list\n",
    "\n",
    "def kmer_count(n): #a function to count different sizes of bases\n",
    "    \"\"\"This function allows one to count bases of DNA in a genome, of any size\"\"\"\n",
    "    kmer_dict = {} #an empty dictionary to hold counts\n",
    "    for line_num, line in enumerate(fastq): #go through each line in the file\n",
    "        if line_num % 4 == 1: #every line that if divided by 4, will have a remainder of 1; this is so only lines with a DNA sequence will be looked at\n",
    "            line = line.rstrip() #strip the newline from each line\n",
    "            seq_len = len(line) - n #defines the length of each line minus the length of the bases wanted so bases that cannot be read are not included\n",
    "            for i in range(seq_len): #look at each individual base on the line\n",
    "                #print(line[i:i+2]) #allows the counting of 2 bases at each base position\n",
    "                k = line[i:i+n] #instead of 2 base counting, change 2 to a variable in which it can be changed to count 3, 4, 5 etc. bases in a row\n",
    "                if k not in kmer_dict: #if its not in the dictionary, go below\n",
    "                    kmer_dict[k] = 0 #add to the dictionary as it is going through the line\n",
    "                kmer_dict[k] += 1 #counts repeats in the dictionary\n",
    "    return kmer_dict #call back the dictionary"
   ]
  },
  {
   "cell_type": "code",
   "execution_count": 7,
   "metadata": {
    "collapsed": false
   },
   "outputs": [
    {
     "data": {
      "text/plain": [
       "{'A': 2498, 'C': 2527, 'G': 2461, 'T': 2414}"
      ]
     },
     "execution_count": 7,
     "metadata": {},
     "output_type": "execute_result"
    }
   ],
   "source": [
    "kmer_count(1) #outputs results based on base count wanted in ()"
   ]
  },
  {
   "cell_type": "code",
   "execution_count": null,
   "metadata": {
    "collapsed": true
   },
   "outputs": [],
   "source": []
  }
 ],
 "metadata": {
  "kernelspec": {
   "display_name": "Python [default]",
   "language": "python",
   "name": "python3"
  },
  "language_info": {
   "codemirror_mode": {
    "name": "ipython",
    "version": 3
   },
   "file_extension": ".py",
   "mimetype": "text/x-python",
   "name": "python",
   "nbconvert_exporter": "python",
   "pygments_lexer": "ipython3",
   "version": "3.5.2"
  }
 },
 "nbformat": 4,
 "nbformat_minor": 1
}
